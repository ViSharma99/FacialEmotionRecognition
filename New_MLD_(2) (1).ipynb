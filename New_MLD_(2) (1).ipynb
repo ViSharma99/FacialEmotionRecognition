{
  "nbformat": 4,
  "nbformat_minor": 0,
  "metadata": {
    "colab": {
      "provenance": []
    },
    "kernelspec": {
      "name": "python3",
      "display_name": "Python 3"
    },
    "language_info": {
      "name": "python"
    }
  },
  "cells": [
    {
      "cell_type": "code",
      "execution_count": null,
      "metadata": {
        "colab": {
          "base_uri": "https://localhost:8080/"
        },
        "id": "540hidqp7eZy",
        "outputId": "baec0067-1042-42ed-c21b-5026dd501ed3"
      },
      "outputs": [
        {
          "output_type": "stream",
          "name": "stdout",
          "text": [
            "Mounted at /content/drive/\n"
          ]
        }
      ],
      "source": [
        "from google.colab import drive\n",
        "drive.mount(\"/content/drive/\")"
      ]
    },
    {
      "cell_type": "code",
      "source": [
        "from keras.preprocessing.image import ImageDataGenerator\n",
        "from keras.applications.vgg19 import VGG19\n",
        "from keras.layers import Flatten, Dense, Dropout, Conv2D, MaxPool2D,BatchNormalization, LSTM, CuDNNLSTM, MaxPooling2D\n",
        "from keras.models import Sequential\n",
        "from keras import regularizers\n",
        "import keras\n",
        "\n",
        "from keras.layers import TimeDistributed\n",
        "from keras.layers import GlobalAveragePooling2D\n",
        "from tensorflow.keras.applications import MobileNetV2\n",
        "\n",
        "from tensorflow.keras.optimizers import Adam\n",
        "import tensorflow as tf\n",
        "\n",
        "import matplotlib.pyplot as plt\n",
        "import cv2"
      ],
      "metadata": {
        "id": "FPoR5PMH74Ir"
      },
      "execution_count": null,
      "outputs": []
    },
    {
      "cell_type": "code",
      "source": [
        "image_generator = ImageDataGenerator(\n",
        "    rescale=1./255, \n",
        "    horizontal_flip=2, \n",
        "    vertical_flip=2\n",
        ")    \n",
        "\n",
        "training_set = image_generator.flow_from_directory(batch_size=256,\n",
        "                                                 directory='/content/drive/MyDrive/Data/Folder/train',\n",
        "                                                 shuffle=True,\n",
        "                                                 target_size=(48, 48), \n",
        "                                                 class_mode='categorical',\n",
        "                                                color_mode = \"grayscale\"\n",
        "                                                )\n",
        "testing_set = image_generator.flow_from_directory(batch_size=128,\n",
        "                                                 directory='/content/drive/MyDrive/Data/Folder/val',\n",
        "                                                 shuffle=True,\n",
        "                                                 target_size=(48, 48), \n",
        "                                                 class_mode='categorical',\n",
        "                                                 color_mode = \"grayscale\"\n",
        "                                                 )\n",
        "\n",
        "#final data set\n",
        "new_data = image_generator.flow_from_directory(batch_size=128,\n",
        "                                                 directory='/content/drive/MyDrive/New Data',\n",
        "                                                 shuffle=True,\n",
        "                                                 target_size=(48, 48), \n",
        "                                                 class_mode='categorical',\n",
        "                                                 color_mode = \"grayscale\"\n",
        "                                                 )                          "
      ],
      "metadata": {
        "colab": {
          "base_uri": "https://localhost:8080/"
        },
        "id": "yljMUDkw-Kpc",
        "outputId": "5b1bf006-71a9-4efa-d58b-fcf1bb86ac77"
      },
      "execution_count": null,
      "outputs": [
        {
          "output_type": "stream",
          "name": "stdout",
          "text": [
            "Found 30402 images belonging to 6 classes.\n",
            "Found 6516 images belonging to 6 classes.\n",
            "Found 26124 images belonging to 6 classes.\n"
          ]
        }
      ]
    },
    {
      "cell_type": "code",
      "source": [
        "training_set.class_indices"
      ],
      "metadata": {
        "colab": {
          "base_uri": "https://localhost:8080/"
        },
        "id": "LAru0C4u_YPV",
        "outputId": "cc0121f8-4f29-49ac-94e9-74d9be8718c4"
      },
      "execution_count": null,
      "outputs": [
        {
          "output_type": "execute_result",
          "data": {
            "text/plain": [
              "{'ANGER': 0,\n",
              " 'DISGUST': 1,\n",
              " 'FEAR': 2,\n",
              " 'HAPPINESS': 3,\n",
              " 'SADNESS': 4,\n",
              " 'SURPRISE': 5}"
            ]
          },
          "metadata": {},
          "execution_count": 34
        }
      ]
    },
    {
      "cell_type": "code",
      "source": [
        "model = VGG19(\n",
        "      input_shape = (48, 48, 3),\n",
        "      include_top = False,\n",
        "      weights = 'imagenet'\n",
        "    )"
      ],
      "metadata": {
        "id": "njk3PjL2_ceH"
      },
      "execution_count": null,
      "outputs": []
    },
    {
      "cell_type": "code",
      "source": [
        "for layers in model.layers:\n",
        "    layers.trainable = False"
      ],
      "metadata": {
        "id": "7iD0jNRJ_hfQ"
      },
      "execution_count": null,
      "outputs": []
    },
    {
      "cell_type": "code",
      "source": [
        "x = Flatten()(model.output)\n",
        "x = Dense(512, activation = \"relu\")(x)\n",
        "x = Dropout(0.5)(x)\n",
        "x = Dense(14, activation = \"relu\")(x)\n",
        "x = Dense(6, activation = \"softmax\")(x)\n",
        "\n",
        "model = keras.Model(model.input, x)\n",
        "model.compile(loss = \"categorical_crossentropy\", optimizer = \"adam\", metrics = \"accuracy\")\n",
        "model.summary()"
      ],
      "metadata": {
        "colab": {
          "base_uri": "https://localhost:8080/"
        },
        "id": "oZQ0Oqgu_k_f",
        "outputId": "ddf5437f-15a2-4976-e9b4-0e685cf8452c"
      },
      "execution_count": null,
      "outputs": [
        {
          "output_type": "stream",
          "name": "stdout",
          "text": [
            "Model: \"model_5\"\n",
            "_________________________________________________________________\n",
            " Layer (type)                Output Shape              Param #   \n",
            "=================================================================\n",
            " input_4 (InputLayer)        [(None, 48, 48, 3)]       0         \n",
            "                                                                 \n",
            " block1_conv1 (Conv2D)       (None, 48, 48, 64)        1792      \n",
            "                                                                 \n",
            " block1_conv2 (Conv2D)       (None, 48, 48, 64)        36928     \n",
            "                                                                 \n",
            " block1_pool (MaxPooling2D)  (None, 24, 24, 64)        0         \n",
            "                                                                 \n",
            " block2_conv1 (Conv2D)       (None, 24, 24, 128)       73856     \n",
            "                                                                 \n",
            " block2_conv2 (Conv2D)       (None, 24, 24, 128)       147584    \n",
            "                                                                 \n",
            " block2_pool (MaxPooling2D)  (None, 12, 12, 128)       0         \n",
            "                                                                 \n",
            " block3_conv1 (Conv2D)       (None, 12, 12, 256)       295168    \n",
            "                                                                 \n",
            " block3_conv2 (Conv2D)       (None, 12, 12, 256)       590080    \n",
            "                                                                 \n",
            " block3_conv3 (Conv2D)       (None, 12, 12, 256)       590080    \n",
            "                                                                 \n",
            " block3_conv4 (Conv2D)       (None, 12, 12, 256)       590080    \n",
            "                                                                 \n",
            " block3_pool (MaxPooling2D)  (None, 6, 6, 256)         0         \n",
            "                                                                 \n",
            " block4_conv1 (Conv2D)       (None, 6, 6, 512)         1180160   \n",
            "                                                                 \n",
            " block4_conv2 (Conv2D)       (None, 6, 6, 512)         2359808   \n",
            "                                                                 \n",
            " block4_conv3 (Conv2D)       (None, 6, 6, 512)         2359808   \n",
            "                                                                 \n",
            " block4_conv4 (Conv2D)       (None, 6, 6, 512)         2359808   \n",
            "                                                                 \n",
            " block4_pool (MaxPooling2D)  (None, 3, 3, 512)         0         \n",
            "                                                                 \n",
            " block5_conv1 (Conv2D)       (None, 3, 3, 512)         2359808   \n",
            "                                                                 \n",
            " block5_conv2 (Conv2D)       (None, 3, 3, 512)         2359808   \n",
            "                                                                 \n",
            " block5_conv3 (Conv2D)       (None, 3, 3, 512)         2359808   \n",
            "                                                                 \n",
            " block5_conv4 (Conv2D)       (None, 3, 3, 512)         2359808   \n",
            "                                                                 \n",
            " block5_pool (MaxPooling2D)  (None, 1, 1, 512)         0         \n",
            "                                                                 \n",
            " flatten_6 (Flatten)         (None, 512)               0         \n",
            "                                                                 \n",
            " dense_18 (Dense)            (None, 512)               262656    \n",
            "                                                                 \n",
            " dropout_11 (Dropout)        (None, 512)               0         \n",
            "                                                                 \n",
            " dense_19 (Dense)            (None, 14)                7182      \n",
            "                                                                 \n",
            " dense_20 (Dense)            (None, 6)                 90        \n",
            "                                                                 \n",
            "=================================================================\n",
            "Total params: 20,294,312\n",
            "Trainable params: 269,928\n",
            "Non-trainable params: 20,024,384\n",
            "_________________________________________________________________\n"
          ]
        }
      ]
    },
    {
      "cell_type": "code",
      "source": [
        "hist = model.fit_generator(training_set, validation_data = testing_set , epochs = 5)"
      ],
      "metadata": {
        "colab": {
          "base_uri": "https://localhost:8080/"
        },
        "id": "BOGtc06K_ncK",
        "outputId": "00b329a4-14f9-4752-9a7e-a56fc288c1c6"
      },
      "execution_count": null,
      "outputs": [
        {
          "output_type": "stream",
          "name": "stderr",
          "text": [
            "/usr/local/lib/python3.7/dist-packages/ipykernel_launcher.py:1: UserWarning: `Model.fit_generator` is deprecated and will be removed in a future version. Please use `Model.fit`, which supports generators.\n",
            "  \"\"\"Entry point for launching an IPython kernel.\n"
          ]
        },
        {
          "output_type": "stream",
          "name": "stdout",
          "text": [
            "Epoch 1/5\n",
            "119/119 [==============================] - 6081s 51s/step - loss: 1.1384 - accuracy: 0.5872 - val_loss: 0.8009 - val_accuracy: 0.7210\n",
            "Epoch 2/5\n",
            "119/119 [==============================] - 1113s 9s/step - loss: 0.7644 - accuracy: 0.7370 - val_loss: 0.6400 - val_accuracy: 0.7824\n",
            "Epoch 3/5\n",
            "119/119 [==============================] - 1108s 9s/step - loss: 0.6462 - accuracy: 0.7792 - val_loss: 0.5557 - val_accuracy: 0.8125\n",
            "Epoch 4/5\n",
            "119/119 [==============================] - 1109s 9s/step - loss: 0.5772 - accuracy: 0.8029 - val_loss: 0.5160 - val_accuracy: 0.8206\n",
            "Epoch 5/5\n",
            "119/119 [==============================] - 1112s 9s/step - loss: 0.5285 - accuracy: 0.8190 - val_loss: 0.4696 - val_accuracy: 0.8459\n"
          ]
        }
      ]
    },
    {
      "cell_type": "code",
      "source": [
        "hist = hist.history"
      ],
      "metadata": {
        "id": "lxytTE-TvFYK"
      },
      "execution_count": null,
      "outputs": []
    },
    {
      "cell_type": "code",
      "source": [
        "plt.plot(hist[\"accuracy\"])\n",
        "plt.plot(hist[\"val_accuracy\"])\n",
        "plt.title(\"Accuracy plot\")\n",
        "plt.legend([\"train\",\"test\"])\n",
        "plt.xlabel(\"epoch\")\n",
        "plt.ylabel(\"accuracy\")\n",
        "plt.savefig(\"vgg19v2_accuracy.png\")"
      ],
      "metadata": {
        "colab": {
          "base_uri": "https://localhost:8080/",
          "height": 295
        },
        "id": "wbGWPpddvOVz",
        "outputId": "823d4b74-db28-4a9a-95a8-ef3a5000be62"
      },
      "execution_count": null,
      "outputs": [
        {
          "output_type": "display_data",
          "data": {
            "text/plain": [
              "<Figure size 432x288 with 1 Axes>"
            ],
            "image/png": "[encoded data removed]"
          },
          "metadata": {
            "needs_background": "light"
          }
        }
      ]
    },
    {
      "cell_type": "code",
      "source": [
        "plt.plot(hist[\"loss\"])\n",
        "plt.plot(hist[\"val_loss\"])\n",
        "plt.title(\"Accuracy loss\")\n",
        "plt.legend([\"train\",\"test\"])\n",
        "plt.xlabel(\"epoch\")\n",
        "plt.ylabel(\"loss\")\n",
        "plt.savefig(\"vgg19v2_loss.png\")"
      ],
      "metadata": {
        "colab": {
          "base_uri": "https://localhost:8080/",
          "height": 295
        },
        "id": "uDob7wi4vODw",
        "outputId": "49a52f82-97ac-45ce-999e-1a3bb0b5bc12"
      },
      "execution_count": null,
      "outputs": [
        {
          "output_type": "display_data",
          "data": {
            "text/plain": [
              "<Figure size 432x288 with 1 Axes>"
            ],
            "image/png": "[encoded data removed]"
          },
          "metadata": {
            "needs_background": "light"
          }
        }
      ]
    },
    {
      "cell_type": "code",
      "source": [
        "model = Sequential()\n",
        "model.add(Conv2D(32, kernel_size=(3, 3), padding='same', activation='relu', input_shape=(48, 48, 1)))\n",
        "model.add(Conv2D(64,(3,3), padding='same', activation='relu' ))\n",
        "model.add(BatchNormalization())\n",
        "model.add(MaxPool2D(pool_size=(2, 2)))\n",
        "model.add(Dropout(0.25))\n",
        "\n",
        "model.add(Conv2D(128,(5,5), padding='same', activation='relu'))\n",
        "model.add(BatchNormalization())\n",
        "model.add(MaxPool2D(pool_size=(2, 2)))\n",
        "model.add(Dropout(0.25))\n",
        "    \n",
        "model.add(Conv2D(512,(3,3), padding='same', activation='relu', kernel_regularizer=regularizers.l2(0.01)))\n",
        "model.add(BatchNormalization())\n",
        "model.add(MaxPool2D(pool_size=(2, 2)))\n",
        "model.add(Dropout(0.25))\n",
        "\n",
        "model.add(Conv2D(512,(3,3), padding='same', activation='relu', kernel_regularizer=regularizers.l2(0.01)))\n",
        "model.add(BatchNormalization())\n",
        "model.add(MaxPool2D(pool_size=(2, 2)))\n",
        "model.add(Dropout(0.25))\n",
        "\n",
        "model.add(Flatten()) \n",
        "model.add(Dense(256,activation = 'relu'))\n",
        "model.add(BatchNormalization())\n",
        "model.add(Dropout(0.25))\n",
        "    \n",
        "\n",
        "model.add(Dense(512,activation = 'relu'))\n",
        "model.add(BatchNormalization())\n",
        "model.add(Dropout(0.25))\n",
        "\n",
        "model.add(Dense(6, activation='softmax'))\n",
        "\n",
        "model.compile(\n",
        "    optimizer = \"adam\", \n",
        "    loss='categorical_crossentropy', \n",
        "    metrics=['accuracy']\n",
        ")"
      ],
      "metadata": {
        "id": "D70eR9AsBrN3"
      },
      "execution_count": null,
      "outputs": []
    },
    {
      "cell_type": "code",
      "source": [
        "hist1 = model.fit_generator(training_set, validation_data = testing_set , epochs = 5)"
      ],
      "metadata": {
        "colab": {
          "base_uri": "https://localhost:8080/"
        },
        "id": "6T79zp9qv5wY",
        "outputId": "be76784b-d9b8-438e-d7e5-6465d5290740"
      },
      "execution_count": null,
      "outputs": [
        {
          "output_type": "stream",
          "name": "stderr",
          "text": [
            "/usr/local/lib/python3.7/dist-packages/ipykernel_launcher.py:1: UserWarning: `Model.fit_generator` is deprecated and will be removed in a future version. Please use `Model.fit`, which supports generators.\n",
            "  \"\"\"Entry point for launching an IPython kernel.\n"
          ]
        },
        {
          "output_type": "stream",
          "name": "stdout",
          "text": [
            "Epoch 1/5\n",
            "119/119 [==============================] - 1742s 15s/step - loss: 5.3594 - accuracy: 0.6646 - val_loss: 5.6055 - val_accuracy: 0.3002\n",
            "Epoch 2/5\n",
            "119/119 [==============================] - 1718s 14s/step - loss: 1.5559 - accuracy: 0.8581 - val_loss: 3.8732 - val_accuracy: 0.3002\n",
            "Epoch 3/5\n",
            "119/119 [==============================] - 1726s 15s/step - loss: 1.0101 - accuracy: 0.9417 - val_loss: 5.5074 - val_accuracy: 0.1894\n",
            "Epoch 4/5\n",
            "119/119 [==============================] - 1744s 15s/step - loss: 0.8707 - accuracy: 0.9625 - val_loss: 5.5998 - val_accuracy: 0.1978\n",
            "Epoch 5/5\n",
            "119/119 [==============================] - 1734s 15s/step - loss: 0.7971 - accuracy: 0.9672 - val_loss: 0.9124 - val_accuracy: 0.9357\n"
          ]
        }
      ]
    },
    {
      "cell_type": "code",
      "source": [
        "hist1 = hist1.history"
      ],
      "metadata": {
        "id": "3uuNHS6XUUmK"
      },
      "execution_count": null,
      "outputs": []
    },
    {
      "cell_type": "code",
      "source": [
        "plt.plot(hist1[\"accuracy\"])\n",
        "plt.plot(hist1[\"val_accuracy\"])\n",
        "plt.title(\"Accuracy plot\")\n",
        "plt.legend([\"train\",\"test\"])\n",
        "plt.xlabel(\"epoch\")\n",
        "plt.ylabel(\"accuracy\")\n",
        "plt.savefig(\"CNNv2_accuracy.png\")"
      ],
      "metadata": {
        "colab": {
          "base_uri": "https://localhost:8080/",
          "height": 295
        },
        "id": "UlbbhNcNTP5D",
        "outputId": "e227a2f8-3de9-4ed7-bbec-a34dc1e269f3"
      },
      "execution_count": null,
      "outputs": [
        {
          "output_type": "display_data",
          "data": {
            "text/plain": [
              "<Figure size 432x288 with 1 Axes>"
            ],
            "image/png": "[encoded data removed]"
          },
          "metadata": {
            "needs_background": "light"
          }
        }
      ]
    },
    {
      "cell_type": "code",
      "source": [
        "plt.plot(hist1[\"loss\"])\n",
        "plt.plot(hist1[\"val_loss\"])\n",
        "plt.title(\"Accuracy loss\")\n",
        "plt.legend([\"train\",\"test\"])\n",
        "plt.xlabel(\"epoch\")\n",
        "plt.ylabel(\"loss\")\n",
        "plt.savefig(\"CNNv2_loss.png\")"
      ],
      "metadata": {
        "colab": {
          "base_uri": "https://localhost:8080/",
          "height": 295
        },
        "id": "tiD_aW31TR4N",
        "outputId": "7c00b529-bd34-4042-e0d5-26749c149bd7"
      },
      "execution_count": null,
      "outputs": [
        {
          "output_type": "display_data",
          "data": {
            "text/plain": [
              "<Figure size 432x288 with 1 Axes>"
            ],
            "image/png": "[encoded data removed]"
          },
          "metadata": {
            "needs_background": "light"
          }
        }
      ]
    },
    {
      "cell_type": "code",
      "source": [
        "hist_deployment = model.evaluate(new_data)"
      ],
      "metadata": {
        "colab": {
          "base_uri": "https://localhost:8080/"
        },
        "id": "dhdcRYi1Vps2",
        "outputId": "72b7038a-f618-4f2b-be5d-6162728b5cc9"
      },
      "execution_count": null,
      "outputs": [
        {
          "output_type": "stream",
          "name": "stdout",
          "text": [
            "205/205 [==============================] - 5007s 25s/step - loss: 1.2085 - accuracy: 0.8438\n"
          ]
        }
      ]
    }
  ]
}