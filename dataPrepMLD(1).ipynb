{
  "cells": [
    {
      "cell_type": "code",
      "execution_count": null,
      "id": "X4hEOg3WgOGc",
      "metadata": {
        "colab": {
          "base_uri": "https://localhost:8080/"
        },
        "id": "X4hEOg3WgOGc",
        "outputId": "731e0a45-3770-4fd9-d846-69d79d0c1735"
      },
      "outputs": [
        {
          "output_type": "stream",
          "name": "stdout",
          "text": [
            "Mounted at /content/drive\n"
          ]
        }
      ],
      "source": [
        "from google.colab import drive\n",
        "import os\n",
        "import glob\n",
        "drive.mount('/content/drive')\n",
        "\n"
      ]
    },
    {
      "cell_type": "code",
      "execution_count": null,
      "id": "9Okf4MevePWu",
      "metadata": {
        "colab": {
          "base_uri": "https://localhost:8080/"
        },
        "id": "9Okf4MevePWu",
        "outputId": "fef4b0d8-85c0-46bc-d0d1-7534e61d5430"
      },
      "outputs": [
        {
          "output_type": "stream",
          "name": "stdout",
          "text": [
            "/content/drive/MyDrive/MLDcw/ergasia MLD qmul\n"
          ]
        }
      ],
      "source": [
        "path='/content/drive/MyDrive/MLDcw/ergasia MLD qmul'\n",
        "os.listdir(path)\n",
        "print(path)"
      ]
    },
    {
      "cell_type": "code",
      "execution_count": null,
      "id": "ar-6APcvfpdV",
      "metadata": {
        "colab": {
          "base_uri": "https://localhost:8080/"
        },
        "id": "ar-6APcvfpdV",
        "outputId": "eb27c455-ec4e-4947-d444-4d58ab1e52d1"
      },
      "outputs": [
        {
          "output_type": "execute_result",
          "data": {
            "text/plain": [
              "8228"
            ]
          },
          "metadata": {},
          "execution_count": 4
        }
      ],
      "source": [
        "sample_path = '/content/drive/MyDrive/MLDcw/ergasia MLD qmul/ANGER/*.jpg'\n",
        "files = glob.glob(sample_path)\n",
        "len(files)"
      ]
    },
    {
      "cell_type": "code",
      "source": [
        "Classes = ['ANGER','SURPRISE', 'FEAR', 'HAPPINESS', 'DISGUST', 'SADNESS']\n",
        "Datadirectory = path\n",
        "img_size =128"
      ],
      "metadata": {
        "id": "kYJARGFHeIpZ"
      },
      "id": "kYJARGFHeIpZ",
      "execution_count": null,
      "outputs": []
    },
    {
      "cell_type": "code",
      "source": [],
      "metadata": {
        "id": "tZCnutlMhk05"
      },
      "id": "tZCnutlMhk05",
      "execution_count": null,
      "outputs": []
    },
    {
      "cell_type": "code",
      "source": [
        "import cv2 as cv2\n",
        "training_Data = [] ## data\n",
        "\n",
        "\n",
        "\n",
        "def create_training_Data():\n",
        "  for category in Classes:\n",
        "    path = os.path. join(Datadirectory, category)\n",
        "    class_num = Classes.index(category) ## 0 1,## Label\n",
        "    for img in os.listdir (path) :\n",
        "      try:\n",
        "        img_array = cv2.imread(os.path.join(path,img))\n",
        "        new_array= cv2.resize(img_array, (img_size,img_size))\n",
        "        training_Data.append([new_array,class_num])\n",
        "      except Exception as e:\n",
        "        pass"
      ],
      "metadata": {
        "id": "XnjqrYJ1d-BE"
      },
      "id": "XnjqrYJ1d-BE",
      "execution_count": null,
      "outputs": []
    },
    {
      "cell_type": "code",
      "source": [
        "create_training_Data()"
      ],
      "metadata": {
        "id": "QvqDi-bud-Qz"
      },
      "id": "QvqDi-bud-Qz",
      "execution_count": null,
      "outputs": []
    },
    {
      "cell_type": "code",
      "source": [
        "classes = ['ANGER','SURPRISE', 'FEAR', 'HAPPINESS', 'DISGUST', 'SADNESS']\n",
        "root_dir = path"
      ],
      "metadata": {
        "id": "OppkBWYQ0O5h"
      },
      "id": "OppkBWYQ0O5h",
      "execution_count": null,
      "outputs": []
    },
    {
      "cell_type": "code",
      "source": [
        "import numpy as np\n",
        "import os\n",
        "import shutil"
      ],
      "metadata": {
        "id": "FtLqy7EV0UYl"
      },
      "id": "FtLqy7EV0UYl",
      "execution_count": null,
      "outputs": []
    },
    {
      "cell_type": "code",
      "source": [
        "new_root = 'data'\n",
        "root_dir1 = \"/content/drive/MyDrive/MLDcw/\""
      ],
      "metadata": {
        "id": "D2rFTncQ0djD"
      },
      "id": "D2rFTncQ0djD",
      "execution_count": null,
      "outputs": []
    },
    {
      "cell_type": "code",
      "source": [
        "root_dir1 + new_root+'/train/'+classes[0]"
      ],
      "metadata": {
        "colab": {
          "base_uri": "https://localhost:8080/",
          "height": 35
        },
        "id": "4cEgH_9CR6cY",
        "outputId": "dcf8080b-8363-412b-d07a-a1ec7b182512"
      },
      "id": "4cEgH_9CR6cY",
      "execution_count": null,
      "outputs": [
        {
          "output_type": "execute_result",
          "data": {
            "text/plain": [
              "'/content/drive/MyDrive/MLDcw/data/train/ANGER'"
            ],
            "application/vnd.google.colaboratory.intrinsic+json": {
              "type": "string"
            }
          },
          "metadata": {},
          "execution_count": 6
        }
      ]
    },
    {
      "cell_type": "code",
      "source": [
        "for cls in classes:\n",
        "\n",
        "    src = root_dir + '/' + cls # folder to copy images from\n",
        "\n",
        "    print(src)\n",
        "\n",
        "    allFileNames = os.listdir(src)\n",
        "\n",
        "    np.random.shuffle(allFileNames)\n",
        "\n",
        "\n",
        "\n",
        "    ## here 0.75 = training ratio , (0.95-0.75) = validation ratio , (1-0.95) =  \n",
        "\n",
        "    ##training ratio  \n",
        "\n",
        "    train_FileNames,val_FileNames,test_FileNames = np.split(np.array(allFileNames),[int(len(allFileNames)*0.70),int(len(allFileNames)*0.85)])\n",
        "\n",
        "\n",
        "\n",
        "    # #Converting file names from array to list\n",
        "\n",
        "\n",
        "\n",
        "    train_FileNames = [src+'/'+ name for name in train_FileNames]\n",
        "\n",
        "    val_FileNames = [src+'/' + name for name in val_FileNames]\n",
        "\n",
        "    test_FileNames = [src+'/' + name for name in test_FileNames]\n",
        "\n",
        "\n",
        "\n",
        "    print('Total images  : '+ cls + ' ' +str(len(allFileNames)))\n",
        "\n",
        "    print('Training : '+ cls + ' '+str(len(train_FileNames)))\n",
        "\n",
        "    print('Validation : '+ cls + ' ' +str(len(val_FileNames)))\n",
        "\n",
        "    print('Testing : '+ cls + ' '+str(len(test_FileNames)))    \n",
        "\n",
        "    \n",
        "\n",
        "    ## Copy pasting images to target directory\n",
        "    for name in train_FileNames:\n",
        "\n",
        "        shutil.copy(name, root_dir1 + new_root+'/train/'+cls )\n",
        "\n",
        "\n",
        "\n",
        "\n",
        "    for name in val_FileNames:\n",
        "\n",
        "        shutil.copy(name, root_dir1 +new_root+'/val/'+cls )\n",
        "\n",
        "    for name in test_FileNames:\n",
        "\n",
        "        shutil.copy(name,root_dir1 + new_root+'/test/'+cls )"
      ],
      "metadata": {
        "colab": {
          "base_uri": "https://localhost:8080/"
        },
        "id": "0sA86h3otKME",
        "outputId": "d002320d-d3a2-4ce5-8f82-3615acce0860"
      },
      "id": "0sA86h3otKME",
      "execution_count": null,
      "outputs": [
        {
          "output_type": "stream",
          "name": "stdout",
          "text": [
            "/content/drive/MyDrive/MLDcw/ergasia MLD qmul/ANGER\n",
            "Total images  : ANGER 8229\n",
            "Training : ANGER 5760\n",
            "Validation : ANGER 1234\n",
            "Testing : ANGER 1235\n",
            "/content/drive/MyDrive/MLDcw/ergasia MLD qmul/SURPRISE\n",
            "Total images  : SURPRISE 7419\n",
            "Training : SURPRISE 5193\n",
            "Validation : SURPRISE 1113\n",
            "Testing : SURPRISE 1113\n",
            "/content/drive/MyDrive/MLDcw/ergasia MLD qmul/FEAR\n",
            "Total images  : FEAR 2986\n",
            "Training : FEAR 2090\n",
            "Validation : FEAR 448\n",
            "Testing : FEAR 448\n",
            "/content/drive/MyDrive/MLDcw/ergasia MLD qmul/HAPPINESS\n",
            "Total images  : HAPPINESS 9114\n",
            "Training : HAPPINESS 6379\n",
            "Validation : HAPPINESS 1367\n",
            "Testing : HAPPINESS 1368\n",
            "/content/drive/MyDrive/MLDcw/ergasia MLD qmul/DISGUST\n",
            "Total images  : DISGUST 2652\n",
            "Training : DISGUST 1856\n",
            "Validation : DISGUST 398\n",
            "Testing : DISGUST 398\n",
            "/content/drive/MyDrive/MLDcw/ergasia MLD qmul/SADNESS\n",
            "Total images  : SADNESS 13041\n",
            "Training : SADNESS 9128\n",
            "Validation : SADNESS 1956\n",
            "Testing : SADNESS 1957\n"
          ]
        }
      ]
    },
    {
      "cell_type": "code",
      "source": [
        "import tensorflow"
      ],
      "metadata": {
        "id": "70hvRQ6j9drP"
      },
      "id": "70hvRQ6j9drP",
      "execution_count": null,
      "outputs": []
    },
    {
      "cell_type": "code",
      "source": [
        "from keras.preprocessing.image import ImageDataGenerator\n",
        "from keras.applications.vgg19 import VGG19\n",
        "from keras.layers import Flatten, Dense, Dropout, Conv2D, MaxPool2D,BatchNormalization, LSTM, CuDNNLSTM, MaxPooling2D\n",
        "from keras.models import Sequential\n",
        "from keras import regularizers\n",
        "import keras\n",
        "\n",
        "from keras.layers import TimeDistributed\n",
        "from keras.layers import GlobalAveragePooling2D\n",
        "from tensorflow.keras.applications import MobileNetV2\n",
        "\n",
        "from tensorflow.keras.optimizers import Adam\n",
        "import tensorflow as tf\n",
        "\n",
        "import matplotlib.pyplot as plt\n",
        "import cv2"
      ],
      "metadata": {
        "id": "ZiQHhnq8119S"
      },
      "id": "ZiQHhnq8119S",
      "execution_count": null,
      "outputs": []
    },
    {
      "cell_type": "code",
      "source": [
        "image_generator = ImageDataGenerator(\n",
        "    rescale=1./255, \n",
        "    horizontal_flip=2, \n",
        "    vertical_flip=2\n",
        ")    \n",
        "\n",
        "training_set = image_generator.flow_from_directory(batch_size=256,\n",
        "                                                 directory='/content/drive/MyDrive/MLDcw/data/train',\n",
        "                                                 shuffle=True,\n",
        "                                                 target_size=(48, 48), \n",
        "                                                 class_mode='categorical',\n",
        "                                                color_mode = \"grayscale\",\n",
        "                                               # featurewise_center=True,\n",
        "                                               # featurewise_std_normalization=True\n",
        "                                                )\n",
        "validation_set = image_generator.flow_from_directory(batch_size=128,\n",
        "                                                 directory='/content/drive/MyDrive/MLDcw/data/val',\n",
        "                                                 shuffle=True,\n",
        "                                                 target_size=(48, 48), \n",
        "                                                 class_mode='categorical',\n",
        "                                                 color_mode = \"grayscale\"\n",
        "                                                  \n",
        "                                                 )\n",
        "testing_set = image_generator.flow_from_directory(batch_size = 128,\n",
        "                                                  directory = '/content/drive/MyDrive/MLDcw/data/test',\n",
        "                                                  shuffle = True,\n",
        "                                                  target_size=(48, 48),\n",
        "                                                  class_mode = 'categorical',\n",
        "                                                  color_mode = \"grayscale\"\n",
        "                                                  )\n",
        "\n",
        "# #final data set\n",
        "# new_data = image_generator.flow_from_directory(batch_size=128,\n",
        "#                                                  directory='/content/drive/MyDrive/MLDcw/data/new_d',\n",
        "#                                                  shuffle=True,\n",
        "#                                                  target_size=(48, 48), \n",
        "#                                                  class_mode='categorical',\n",
        "#                                                  color_mode = \"grayscale\"\n",
        "#                                                  )                          "
      ],
      "metadata": {
        "colab": {
          "base_uri": "https://localhost:8080/"
        },
        "id": "CDKkdQ2r9TXk",
        "outputId": "0006e91d-7f61-42b6-9bfb-8d1846f00398"
      },
      "id": "CDKkdQ2r9TXk",
      "execution_count": null,
      "outputs": [
        {
          "output_type": "stream",
          "name": "stdout",
          "text": [
            "Found 32114 images belonging to 6 classes.\n",
            "Found 6516 images belonging to 6 classes.\n",
            "Found 6516 images belonging to 6 classes.\n"
          ]
        }
      ]
    },
    {
      "cell_type": "code",
      "source": [
        "training_set.class_indices"
      ],
      "metadata": {
        "colab": {
          "base_uri": "https://localhost:8080/"
        },
        "id": "Ph0GY2U5BluY",
        "outputId": "ec022fa7-ffdd-4fe6-8ace-fe33226980a0"
      },
      "id": "Ph0GY2U5BluY",
      "execution_count": null,
      "outputs": [
        {
          "output_type": "execute_result",
          "data": {
            "text/plain": [
              "{'ANGER': 0,\n",
              " 'DISGUST': 1,\n",
              " 'FEAR': 2,\n",
              " 'HAPPINESS': 3,\n",
              " 'SADNESS': 4,\n",
              " 'SURPRISE': 5}"
            ]
          },
          "metadata": {},
          "execution_count": 20
        }
      ]
    },
    {
      "cell_type": "code",
      "source": [
        "model = Sequential()\n",
        "model.add(Conv2D(32, kernel_size=(3, 3), padding='same', activation='relu', input_shape=(48, 48, 1)))\n",
        "model.add(Conv2D(64,(3,3), padding='same', activation='relu' ))\n",
        "model.add(BatchNormalization())\n",
        "model.add(MaxPool2D(pool_size=(2, 2)))\n",
        "#model.add(Dropout(0.25))\n",
        "\n",
        "model.add(Conv2D(128,(5,5), padding='same', activation='relu'))\n",
        "model.add(BatchNormalization())\n",
        "model.add(MaxPool2D(pool_size=(2, 2)))\n",
        "#model.add(Dropout(0.25))\n",
        "    \n",
        "model.add(Conv2D(256,(3,3), padding='same', activation='relu')) #kernel_regularizer=regularizers.l2(0.01)))\n",
        "model.add(BatchNormalization())\n",
        "model.add(MaxPool2D(pool_size=(2, 2)))\n",
        "model.add(Dropout(0.25))\n",
        "\n",
        "model.add(Conv2D(256,(3,3), padding='same', activation='relu'))# kernel_regularizer=regularizers.l2(0.01)))\n",
        "model.add(BatchNormalization())\n",
        "model.add(MaxPool2D(pool_size=(2, 2)))\n",
        "#model.add(Dropout(0.25))\n",
        "\n",
        "model.add(Flatten()) \n",
        "model.add(Dense(128,activation = 'relu'))\n",
        "model.add(BatchNormalization())\n",
        "#model.add(Dropout(0.25))\n",
        "    \n",
        "\n",
        "model.add(Dense(256,activation = 'relu'))\n",
        "model.add(BatchNormalization())\n",
        "#model.add(Dropout(0.25))\n",
        "\n",
        "model.add(Dense(6, activation='softmax'))\n",
        "\n",
        "model.compile(\n",
        "    optimizer = \"adam\", \n",
        "    loss='categorical_crossentropy', \n",
        "    metrics=['accuracy']\n",
        ")"
      ],
      "metadata": {
        "id": "DoGRQDD_mL6F"
      },
      "id": "DoGRQDD_mL6F",
      "execution_count": null,
      "outputs": []
    },
    {
      "cell_type": "code",
      "source": [
        "hist1 = model.fit_generator(training_set, validation_data = testing_set , epochs = 5)"
      ],
      "metadata": {
        "colab": {
          "base_uri": "https://localhost:8080/"
        },
        "id": "Oabas5QMnshU",
        "outputId": "1b60ea80-36d7-4ff1-dd85-16c4915e4553"
      },
      "id": "Oabas5QMnshU",
      "execution_count": null,
      "outputs": [
        {
          "output_type": "stream",
          "name": "stderr",
          "text": [
            "/usr/local/lib/python3.7/dist-packages/ipykernel_launcher.py:1: UserWarning: `Model.fit_generator` is deprecated and will be removed in a future version. Please use `Model.fit`, which supports generators.\n",
            "  \"\"\"Entry point for launching an IPython kernel.\n"
          ]
        },
        {
          "output_type": "stream",
          "name": "stdout",
          "text": [
            "Epoch 1/5\n",
            "126/126 [==============================] - 1291s 10s/step - loss: 0.6498 - accuracy: 0.7906 - val_loss: 1.9439 - val_accuracy: 0.3002\n",
            "Epoch 2/5\n",
            "126/126 [==============================] - 1270s 10s/step - loss: 0.1871 - accuracy: 0.9406 - val_loss: 4.2869 - val_accuracy: 0.0688\n",
            "Epoch 3/5\n",
            "126/126 [==============================] - 1272s 10s/step - loss: 0.0688 - accuracy: 0.9777 - val_loss: 3.9406 - val_accuracy: 0.0758\n",
            "Epoch 4/5\n",
            "126/126 [==============================] - 1271s 10s/step - loss: 0.0383 - accuracy: 0.9878 - val_loss: 0.5934 - val_accuracy: 0.7865\n",
            "Epoch 5/5\n",
            "126/126 [==============================] - 1270s 10s/step - loss: 0.0287 - accuracy: 0.9904 - val_loss: 0.0982 - val_accuracy: 0.9664\n"
          ]
        }
      ]
    },
    {
      "cell_type": "code",
      "source": [
        "hist1 = hist1.history"
      ],
      "metadata": {
        "id": "q7QQLfDvnyyw"
      },
      "id": "q7QQLfDvnyyw",
      "execution_count": null,
      "outputs": []
    },
    {
      "cell_type": "code",
      "source": [
        "plt.plot(hist1[\"accuracy\"])\n",
        "plt.plot(hist1[\"val_accuracy\"])\n",
        "plt.title(\"Accuracy of Model\")\n",
        "plt.legend([\"Train\",\"Validation\"])\n",
        "plt.xlabel(\"Epoch\")\n",
        "plt.ylabel(\"Accuracy\")\n",
        "plt.savefig(\"CNNv2_accuracy.png\")"
      ],
      "metadata": {
        "colab": {
          "base_uri": "https://localhost:8080/",
          "height": 295
        },
        "id": "ZMOGub02DWdR",
        "outputId": "0b9a5c1e-3a37-4d66-973e-3d1b365e591d"
      },
      "id": "ZMOGub02DWdR",
      "execution_count": null,
      "outputs": [
        {
          "output_type": "display_data",
          "data": {
            "text/plain": [
              "<Figure size 432x288 with 1 Axes>"
            ],
            "image/png": "[encoded data removed]"
          },
          "metadata": {
            "needs_background": "light"
          }
        }
      ]
    },
    {
      "cell_type": "code",
      "source": [
        "hist_deployment = model.evaluate(testing_set)"
      ],
      "metadata": {
        "colab": {
          "base_uri": "https://localhost:8080/"
        },
        "id": "5AVwcb2HD6Jv",
        "outputId": "9bbfce2d-b407-4824-d4e1-2bf4dc04d48d"
      },
      "id": "5AVwcb2HD6Jv",
      "execution_count": null,
      "outputs": [
        {
          "output_type": "stream",
          "name": "stdout",
          "text": [
            "51/51 [==============================] - 67s 1s/step - loss: 0.1051 - accuracy: 0.9650\n"
          ]
        }
      ]
    },
    {
      "cell_type": "code",
      "source": [
        "from zipfile import ZipFile\n",
        "ZipFile(\"/content/drive/MyDrive/MLDcw/assignment_2_MLD_qmul.zip\").extractall(\"/content/drive/MyDrive/MLDcw/data/prod\")"
      ],
      "metadata": {
        "id": "Q5t6nYXwDqNF"
      },
      "id": "Q5t6nYXwDqNF",
      "execution_count": null,
      "outputs": []
    },
    {
      "cell_type": "code",
      "source": [
        "new_data = image_generator.flow_from_directory(batch_size=128,\n",
        "                                                 directory='/content/drive/MyDrive/MLDcw/data/prod/assignment_2_MLD_qmul',\n",
        "                                                 shuffle=True,\n",
        "                                                 target_size=(48, 48), \n",
        "                                                 class_mode='categorical',\n",
        "                                                 #color_mode = \"grayscale\"\n",
        "                                                 )                "
      ],
      "metadata": {
        "colab": {
          "base_uri": "https://localhost:8080/"
        },
        "id": "9ODjvvKBLIgh",
        "outputId": "f0ac5dd2-e09d-47cc-ef84-5dd0bde5e7c1"
      },
      "id": "9ODjvvKBLIgh",
      "execution_count": null,
      "outputs": [
        {
          "output_type": "stream",
          "name": "stdout",
          "text": [
            "Found 26124 images belonging to 6 classes.\n"
          ]
        }
      ]
    },
    {
      "cell_type": "code",
      "source": [
        "hist_prod = model.evaluate(new_data)"
      ],
      "metadata": {
        "colab": {
          "base_uri": "https://localhost:8080/"
        },
        "id": "0s3ZLF2pRtpk",
        "outputId": "32a519e9-9564-4950-b6b6-e97b2f24d7fc"
      },
      "id": "0s3ZLF2pRtpk",
      "execution_count": null,
      "outputs": [
        {
          "output_type": "stream",
          "name": "stdout",
          "text": [
            "205/205 [==============================] - 282s 1s/step - loss: 0.5586 - accuracy: 0.8246\n"
          ]
        }
      ]
    },
    {
      "cell_type": "code",
      "source": [
        "model1 = Sequential()\n",
        "model1.add(Conv2D(32, kernel_size=(3, 3), padding='same', activation='relu', input_shape=(48, 48, 1)))\n",
        "model1.add(Conv2D(64,(3,3), padding='same', activation='relu' ))\n",
        "model1.add(BatchNormalization())\n",
        "model1.add(MaxPool2D(pool_size=(2, 2)))\n",
        "model1.add(Dropout(0.25))\n",
        "\n",
        "model1.add(Conv2D(128,(5,5), padding='same', activation='relu'))\n",
        "model1.add(BatchNormalization())\n",
        "model1.add(MaxPool2D(pool_size=(2, 2)))\n",
        "model1.add(Dropout(0.25))\n",
        "    \n",
        "model1.add(Conv2D(512,(3,3), padding='same', activation='relu', kernel_regularizer=regularizers.l2(0.01)))\n",
        "model1.add(BatchNormalization())\n",
        "model1.add(MaxPool2D(pool_size=(2, 2)))\n",
        "model1.add(Dropout(0.25))\n",
        "model1.add(Conv2D(512,(3,3), padding='same', activation='relu', kernel_regularizer=regularizers.l2(0.01)))\n",
        "model1.add(BatchNormalization())\n",
        "model1.add(MaxPool2D(pool_size=(2, 2)))\n",
        "model1.add(Dropout(0.25))\n",
        "\n",
        "model1.add(Flatten()) \n",
        "model1.add(Dense(256,activation = 'relu'))\n",
        "model1.add(BatchNormalization())\n",
        "model1.add(Dropout(0.25))\n",
        "    \n",
        "\n",
        "model1.add(Dense(512,activation = 'relu'))\n",
        "model1.add(BatchNormalization())\n",
        "model1.add(Dropout(0.25))\n",
        "\n",
        "model1.add(Dense(6, activation='softmax'))\n",
        "\n",
        "model1.compile(\n",
        "    optimizer = \"adam\", \n",
        "    loss='categorical_crossentropy', \n",
        "    metrics=['accuracy']\n",
        ")"
      ],
      "metadata": {
        "id": "-vkVx52sR1BN"
      },
      "id": "-vkVx52sR1BN",
      "execution_count": null,
      "outputs": []
    },
    {
      "cell_type": "code",
      "source": [
        "hist2 = model1.fit_generator(training_set, validation_data = validation_set , epochs = 5)"
      ],
      "metadata": {
        "colab": {
          "base_uri": "https://localhost:8080/"
        },
        "id": "apXvTr-AUkN4",
        "outputId": "416ce847-4a39-4aaf-b4ef-b82d0d4bfd88"
      },
      "id": "apXvTr-AUkN4",
      "execution_count": null,
      "outputs": [
        {
          "output_type": "stream",
          "name": "stderr",
          "text": [
            "/usr/local/lib/python3.7/dist-packages/ipykernel_launcher.py:1: UserWarning: `Model.fit_generator` is deprecated and will be removed in a future version. Please use `Model.fit`, which supports generators.\n",
            "  \"\"\"Entry point for launching an IPython kernel.\n"
          ]
        },
        {
          "output_type": "stream",
          "name": "stdout",
          "text": [
            "Epoch 1/5\n",
            "126/126 [==============================] - 9091s 72s/step - loss: 5.3627 - accuracy: 0.6805 - val_loss: 5.4919 - val_accuracy: 0.3002\n",
            "Epoch 2/5\n",
            "126/126 [==============================] - 1788s 14s/step - loss: 1.5929 - accuracy: 0.8754 - val_loss: 5.8706 - val_accuracy: 0.3002\n",
            "Epoch 3/5\n",
            "126/126 [==============================] - 1812s 14s/step - loss: 1.0165 - accuracy: 0.9470 - val_loss: 5.0206 - val_accuracy: 0.3003\n",
            "Epoch 4/5\n",
            "126/126 [==============================] - 1831s 15s/step - loss: 0.9230 - accuracy: 0.9624 - val_loss: 1.5199 - val_accuracy: 0.8086\n",
            "Epoch 5/5\n",
            "126/126 [==============================] - 1827s 15s/step - loss: 0.7870 - accuracy: 0.9657 - val_loss: 1.2211 - val_accuracy: 0.8582\n"
          ]
        }
      ]
    },
    {
      "cell_type": "code",
      "source": [
        "hist2 = hist2.history"
      ],
      "metadata": {
        "id": "AvautI0mJAls"
      },
      "id": "AvautI0mJAls",
      "execution_count": null,
      "outputs": []
    },
    {
      "cell_type": "code",
      "source": [
        "plt.plot(hist2[\"accuracy\"])\n",
        "plt.plot(hist2[\"val_accuracy\"])\n",
        "plt.title(\"Accuracy of Model\")\n",
        "plt.legend([\"Train\",\"Validation\"])\n",
        "plt.xlabel(\"Epoch\")\n",
        "plt.ylabel(\"Accuracy\")\n",
        "plt.savefig(\"CNNv2_accuracy.png\")"
      ],
      "metadata": {
        "colab": {
          "base_uri": "https://localhost:8080/",
          "height": 295
        },
        "id": "aEzFQl-2LzAN",
        "outputId": "6d95d65b-32ed-4d0f-b541-9e9bbf0368b1"
      },
      "id": "aEzFQl-2LzAN",
      "execution_count": null,
      "outputs": [
        {
          "output_type": "display_data",
          "data": {
            "text/plain": [
              "<Figure size 432x288 with 1 Axes>"
            ],
            "image/png": "[encoded data removed]"
          },
          "metadata": {
            "needs_background": "light"
          }
        }
      ]
    },
    {
      "cell_type": "code",
      "source": [
        "plt.plot(hist2[\"loss\"])\n",
        "plt.plot(hist2[\"val_loss\"])\n",
        "plt.title(\"Accuracy loss\")\n",
        "plt.legend([\"train\",\"test\"])\n",
        "plt.xlabel(\"epoch\")\n",
        "plt.ylabel(\"loss\")\n",
        "plt.savefig(\"vgg19v2_loss.png\")"
      ],
      "metadata": {
        "colab": {
          "base_uri": "https://localhost:8080/",
          "height": 295
        },
        "id": "k79S2_8fL5fH",
        "outputId": "5da77400-a7e1-4390-a469-fd775a84c3c7"
      },
      "id": "k79S2_8fL5fH",
      "execution_count": null,
      "outputs": [
        {
          "output_type": "display_data",
          "data": {
            "text/plain": [
              "<Figure size 432x288 with 1 Axes>"
            ],
            "image/png": "[encoded data removed]"
          },
          "metadata": {
            "needs_background": "light"
          }
        }
      ]
    },
    {
      "cell_type": "code",
      "source": [],
      "metadata": {
        "id": "eAxn7Pg6MXhv"
      },
      "id": "eAxn7Pg6MXhv",
      "execution_count": null,
      "outputs": []
    }
  ],
  "metadata": {
    "colab": {
      "provenance": []
    },
    "kernelspec": {
      "display_name": "Python 3.10.2 64-bit",
      "language": "python",
      "name": "python3"
    },
    "language_info": {
      "codemirror_mode": {
        "name": "ipython",
        "version": 3
      },
      "file_extension": ".py",
      "mimetype": "text/x-python",
      "name": "python",
      "nbconvert_exporter": "python",
      "pygments_lexer": "ipython3",
      "version": "3.10.2"
    },
    "vscode": {
      "interpreter": {
        "hash": "b52de83c0f434db1649d48fecf948adbbe1a896b931cd61f2f4047ceb1fb1ae4"
      }
    }
  },
  "nbformat": 4,
  "nbformat_minor": 5
}